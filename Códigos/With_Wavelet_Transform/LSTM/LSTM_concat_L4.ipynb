{
  "nbformat": 4,
  "nbformat_minor": 0,
  "metadata": {
    "colab": {
      "provenance": []
    },
    "kernelspec": {
      "name": "python3",
      "display_name": "Python 3"
    },
    "language_info": {
      "name": "python"
    }
  },
  "cells": [
    {
      "cell_type": "code",
      "source": [
        "pip install pretty_confusion_matrix"
      ],
      "metadata": {
        "id": "2ahHO5W-_F36"
      },
      "execution_count": null,
      "outputs": []
    },
    {
      "cell_type": "code",
      "execution_count": null,
      "metadata": {
        "id": "rafsg6VK_BhO"
      },
      "outputs": [],
      "source": [
        "from IPython.core.display import Pretty\n",
        "#Data\n",
        "import pandas as pd\n",
        "import numpy as np\n",
        "\n",
        "#Wavelet Transform\n",
        "import pywt\n",
        "\n",
        "#Train and Test Split\n",
        "from sklearn.model_selection import train_test_split\n",
        "\n",
        "#CNN and LSTM Model\n",
        "import keras\n",
        "from keras.models import Sequential, Model\n",
        "from tensorflow.keras.optimizers import Adam\n",
        "from keras.layers import Conv1D, LSTM, Input, MaxPool1D, MaxPooling1D, Dropout, AvgPool1D, Reshape, Concatenate, Dense, Flatten\n",
        "\n",
        "#Metrics\n",
        "from sklearn.metrics import confusion_matrix, recall_score, precision_score\n",
        "\n",
        "#Visualization\n",
        "import seaborn as sns\n",
        "import matplotlib.pyplot as plt\n",
        "#from pretty_confusion_matrix import pp_matrix\n",
        "from keras.utils.vis_utils import plot_model"
      ]
    },
    {
      "cell_type": "code",
      "source": [
        "#Import Data\n",
        "x1 = pd.read_csv('https://github.com/ascdavia/TCC_Engenharia_de_Controle_e_Automacao/blob/main/Database/sEMG_Basic_Hand_movements_upatras_csv_files/Database_1/df1_mov_all.csv?raw=true', compression = None)\n",
        "x1 = x1.drop(x1.columns[0], axis=1)"
      ],
      "metadata": {
        "id": "iWhsQ8pS_G_W"
      },
      "execution_count": null,
      "outputs": []
    },
    {
      "cell_type": "code",
      "source": [
        "#Maximum decomposition level\n",
        "decUtil = pywt.dwt_max_level(3000, 'db2')\n",
        "decUtil"
      ],
      "metadata": {
        "id": "K60yvcVYg0jK",
        "colab": {
          "base_uri": "https://localhost:8080/"
        },
        "outputId": "31377e6f-f669-4a5d-c443-9cbdcd7ef8ca"
      },
      "execution_count": null,
      "outputs": [
        {
          "output_type": "execute_result",
          "data": {
            "text/plain": [
              "9"
            ]
          },
          "metadata": {},
          "execution_count": 3
        }
      ]
    },
    {
      "cell_type": "code",
      "source": [
        "#Define Wavelet Transform Function\n",
        "\n",
        "def waveletTransformFourLevels(df):\n",
        "\n",
        "  aux_df = ()\n",
        "  aux_df = pd.DataFrame(aux_df)\n",
        "\n",
        "  for i in range (len(df)):\n",
        "    aux = df.loc[i]\n",
        "    cA4, cD4, cD3, cD2, cD1= pywt.wavedec(aux,'db2', level = 4)\n",
        "    cA4 = pd.DataFrame(cA4).T\n",
        "    cD4 = pd.DataFrame(cD4).T\n",
        "    cD3 = pd.DataFrame(cD3).T\n",
        "    cD2 = pd.DataFrame(cD2).T\n",
        "    cD1 = pd.DataFrame(cD1).T\n",
        "    aux_df2 = pd.concat([cA4,cD4,cD3,cD2,cD1], axis=1)\n",
        "    aux_df = pd.concat([aux_df,aux_df2])\n",
        "\n",
        "  c = list(range(0, 3010, 1))\n",
        "  aux_df.set_axis(c, axis='columns', inplace=True)\n",
        "  aux_df = aux_df.reset_index(drop=True)\n",
        "\n",
        "  return (aux_df)"
      ],
      "metadata": {
        "id": "m0NNDbhY_H58"
      },
      "execution_count": null,
      "outputs": []
    },
    {
      "cell_type": "code",
      "source": [
        "#Wavelet Transform Application\n",
        "x = waveletTransformFourLevels(x1)\n",
        "x = pd.DataFrame(x)"
      ],
      "metadata": {
        "id": "FSNXfF4r_IB6",
        "colab": {
          "base_uri": "https://localhost:8080/"
        },
        "outputId": "120b1e1a-35c5-4827-b351-859565f0cc1e"
      },
      "execution_count": null,
      "outputs": [
        {
          "output_type": "stream",
          "name": "stderr",
          "text": [
            "<ipython-input-4-3079fd124878>:20: FutureWarning: DataFrame.set_axis 'inplace' keyword is deprecated and will be removed in a future version. Use `obj = obj.set_axis(..., copy=False)` instead\n",
            "  aux_df.set_axis(c, axis='columns', inplace=True)\n"
          ]
        }
      ]
    },
    {
      "cell_type": "code",
      "source": [
        "#Reshape\n",
        "x = x.values.reshape(x.shape[0], x.shape[1], 1)"
      ],
      "metadata": {
        "id": "P8k7xxQv_IKq"
      },
      "execution_count": null,
      "outputs": []
    },
    {
      "cell_type": "code",
      "source": [
        "#Labels\n",
        "base = np.ones((150,1), dtype=np.int64)\n",
        "m_cyl = base*0\n",
        "m_hook = base*1\n",
        "m_lat = base*2\n",
        "m_palm = base*3\n",
        "m_spher = base*4\n",
        "m_tip = base*5"
      ],
      "metadata": {
        "id": "e9WCmPMc_ISi"
      },
      "execution_count": null,
      "outputs": []
    },
    {
      "cell_type": "code",
      "source": [
        "y = np.vstack([m_cyl,m_hook,m_lat,m_palm,m_spher,m_tip])\n",
        "#y = pd.DataFrame(y)"
      ],
      "metadata": {
        "id": "A895w7RP_IZy"
      },
      "execution_count": null,
      "outputs": []
    },
    {
      "cell_type": "code",
      "source": [
        "#Train, test and validation split\n",
        "x_train, x_aux, y_train, y_aux = train_test_split(x,y, test_size=0.30, random_state=42)\n",
        "x_val, x_test, y_val, y_test = train_test_split(x_aux, y_aux, test_size=0.50, random_state=23)"
      ],
      "metadata": {
        "id": "7krHZ8TA_Ihy"
      },
      "execution_count": null,
      "outputs": []
    },
    {
      "cell_type": "code",
      "source": [
        "#LSTM Model\n",
        "\n",
        "lstm_size = 6\n",
        "lstm_layers = 1\n",
        "lr = 0.0001\n",
        "seq_len = 3010\n",
        "\n",
        "n_classes = 6\n",
        "n_channels = 1\n",
        "\n",
        "opt = Adam(learning_rate=lr)\n",
        "\n",
        "lstm_model = Sequential()\n",
        "lstm_model.add(LSTM(lstm_size, input_shape=(seq_len, n_channels), return_sequences=True))\n",
        "lstm_model.add(LSTM(lstm_size, return_sequences=True))\n",
        "lstm_model.add(Flatten())\n",
        "lstm_model.add(Dense(n_classes, activation='softmax'))\n",
        "#lstm_model.add(Dropout(0.2))\n",
        "lstm_model.compile(loss='sparse_categorical_crossentropy', optimizer=opt, metrics=['accuracy'])\n",
        "\n",
        "plot_model(lstm_model, to_file='model.png')"
      ],
      "metadata": {
        "id": "N3AoNoTv_I5h",
        "colab": {
          "base_uri": "https://localhost:8080/",
          "height": 466
        },
        "outputId": "5d541196-b415-4e3c-8bd5-d86b083cdef5"
      },
      "execution_count": null,
      "outputs": [
        {
          "output_type": "execute_result",
          "data": {
            "image/png": "[encoded data removed]",
            "text/plain": [
              "<IPython.core.display.Image object>"
            ]
          },
          "metadata": {},
          "execution_count": 10
        }
      ]
    },
    {
      "cell_type": "code",
      "source": [
        "print(lstm_model.summary())"
      ],
      "metadata": {
        "colab": {
          "base_uri": "https://localhost:8080/"
        },
        "id": "KvOD4J3WyJuz",
        "outputId": "ebfe1e3d-6f15-4532-8ec7-4e99d1c1f7b2"
      },
      "execution_count": null,
      "outputs": [
        {
          "output_type": "stream",
          "name": "stdout",
          "text": [
            "Model: \"sequential\"\n",
            "_________________________________________________________________\n",
            " Layer (type)                Output Shape              Param #   \n",
            "=================================================================\n",
            " lstm (LSTM)                 (None, 3010, 6)           192       \n",
            "                                                                 \n",
            " lstm_1 (LSTM)               (None, 3010, 6)           312       \n",
            "                                                                 \n",
            " flatten (Flatten)           (None, 18060)             0         \n",
            "                                                                 \n",
            " dense (Dense)               (None, 6)                 108366    \n",
            "                                                                 \n",
            "=================================================================\n",
            "Total params: 108,870\n",
            "Trainable params: 108,870\n",
            "Non-trainable params: 0\n",
            "_________________________________________________________________\n",
            "None\n"
          ]
        }
      ]
    },
    {
      "cell_type": "code",
      "source": [
        "#Fit LSTM Model\n",
        "\n",
        "batch_size = 100\n",
        "epochs = 150\n",
        "\n",
        "lstm_model.fit(x_train,\n",
        "               y_train,\n",
        "               epochs=epochs,\n",
        "               batch_size=batch_size,\n",
        "               verbose=True,\n",
        "               validation_data=(x_val, y_val))\n"
      ],
      "metadata": {
        "id": "MNRzGqG1_JAy"
      },
      "execution_count": null,
      "outputs": []
    },
    {
      "cell_type": "code",
      "source": [
        "avaliacao1 = lstm_model.evaluate(x_train,y_train)"
      ],
      "metadata": {
        "id": "OZnskmmc_JJC"
      },
      "execution_count": null,
      "outputs": []
    },
    {
      "cell_type": "code",
      "source": [
        "pred1 = lstm_model.predict(x_test)\n",
        "y_pred1 = pred1.argmax(axis=-1)"
      ],
      "metadata": {
        "id": "Xb_c-2eQ_JQR"
      },
      "execution_count": null,
      "outputs": []
    },
    {
      "cell_type": "code",
      "source": [
        "cm1 = confusion_matrix(y_test, y_pred1)\n",
        "print(cm1)"
      ],
      "metadata": {
        "id": "PjHJvj7e_JYC"
      },
      "execution_count": null,
      "outputs": []
    },
    {
      "cell_type": "code",
      "source": [
        "qualidade1 = cm1.diagonal()/cm1.sum(axis=1)\n",
        "desvio1 = np.std(qualidade1)\n",
        "print('Qualidade:', qualidade1)\n",
        "print('Desvio:', desvio1)"
      ],
      "metadata": {
        "id": "I9rJgXwQ_Jex"
      },
      "execution_count": null,
      "outputs": []
    },
    {
      "cell_type": "code",
      "source": [
        "df_cm1 = pd.DataFrame(cm1, range(6),range(6))\n",
        "pp_matrix(df_cm1)"
      ],
      "metadata": {
        "id": "pyzQ6nKC_q1E"
      },
      "execution_count": null,
      "outputs": []
    }
  ]
}
{
  "nbformat": 4,
  "nbformat_minor": 0,
  "metadata": {
    "colab": {
      "provenance": []
    },
    "kernelspec": {
      "name": "python3",
      "display_name": "Python 3"
    },
    "language_info": {
      "name": "python"
    }
  },
  "cells": [
    {
      "cell_type": "code",
      "source": [
        "pip install pretty_confusion_matrix"
      ],
      "metadata": {
        "id": "um4W3Tl3-Sm7"
      },
      "execution_count": null,
      "outputs": []
    },
    {
      "cell_type": "code",
      "execution_count": null,
      "metadata": {
        "id": "Qv_CBFI3-GCx"
      },
      "outputs": [],
      "source": [
        "from IPython.core.display import Pretty\n",
        "#Data\n",
        "import pandas as pd\n",
        "import numpy as np\n",
        "\n",
        "#Wavelet Transform\n",
        "import pywt\n",
        "\n",
        "#Train and Test Split\n",
        "from sklearn.model_selection import train_test_split\n",
        "\n",
        "#CNN and LSTM Model\n",
        "import keras\n",
        "from keras.models import Sequential, Model\n",
        "from tensorflow.keras.optimizers import Adam\n",
        "from keras.layers import Conv1D, LSTM, Input, MaxPool1D, MaxPooling1D, Dropout, AvgPool1D, Reshape, Concatenate, Dense, Flatten\n",
        "\n",
        "#Metrics\n",
        "from sklearn.metrics import confusion_matrix, recall_score, precision_score\n",
        "\n",
        "#Visualization\n",
        "import seaborn as sns\n",
        "import matplotlib.pyplot as plt\n",
        "#from pretty_confusion_matrix import pp_matrix\n",
        "from keras.utils.vis_utils import plot_model"
      ]
    },
    {
      "cell_type": "code",
      "source": [
        "#Import Data\n",
        "x1 = pd.read_csv('https://github.com/ascdavia/TCC_Engenharia_de_Controle_e_Automacao/blob/main/Database/sEMG_Basic_Hand_movements_upatras_csv_files/Database_1/df1_mov_all.csv?raw=true', compression = None)\n",
        "x1 = x1.drop(x1.columns[0], axis=1)"
      ],
      "metadata": {
        "id": "knKDlFO9-T3h"
      },
      "execution_count": null,
      "outputs": []
    },
    {
      "cell_type": "code",
      "source": [
        "#Maximum decomposition level\n",
        "decUtil = pywt.dwt_max_level(3000, 'db2')\n",
        "decUtil"
      ],
      "metadata": {
        "id": "wvqPaL38gu-0",
        "colab": {
          "base_uri": "https://localhost:8080/"
        },
        "outputId": "8a3658a1-1d3a-410e-8acc-53c6117b534a"
      },
      "execution_count": null,
      "outputs": [
        {
          "output_type": "execute_result",
          "data": {
            "text/plain": [
              "9"
            ]
          },
          "metadata": {},
          "execution_count": 3
        }
      ]
    },
    {
      "cell_type": "code",
      "source": [
        "#Define Wavelet Transform Function\n",
        "\n",
        "def waveletTransformFourLevels(df):\n",
        "\n",
        "  aux_df = ()\n",
        "  aux_df = pd.DataFrame(aux_df)\n",
        "\n",
        "  for i in range (len(df)):\n",
        "    aux = df.loc[i]\n",
        "    cA4, cD4, cD3, cD2, cD1= pywt.wavedec(aux,'db2', level = 4)\n",
        "    cA4 = pd.DataFrame(cA4).T\n",
        "    cD4 = pd.DataFrame(cD4).T\n",
        "    cD3 = pd.DataFrame(cD3).T\n",
        "    cD2 = pd.DataFrame(cD2).T\n",
        "    cD1 = pd.DataFrame(cD1).T\n",
        "    aux_df2 = pd.concat([cA4,cD4,cD3,cD2,cD1], axis=1)\n",
        "    aux_df = pd.concat([aux_df,aux_df2])\n",
        "\n",
        "  c = list(range(0, 3010, 1))\n",
        "  aux_df.set_axis(c, axis='columns', inplace=True)\n",
        "  aux_df = aux_df.reset_index(drop=True)\n",
        "\n",
        "  return (aux_df)"
      ],
      "metadata": {
        "id": "HWVP8LJp-VX8"
      },
      "execution_count": null,
      "outputs": []
    },
    {
      "cell_type": "code",
      "source": [
        "#Wavelet Transform Application\n",
        "x = waveletTransformFourLevels(x1)\n",
        "x = pd.DataFrame(x)"
      ],
      "metadata": {
        "id": "2pcaDEXB-Vw6",
        "colab": {
          "base_uri": "https://localhost:8080/"
        },
        "outputId": "0ef4ca67-bd36-4e87-8447-d6a1529f0f34"
      },
      "execution_count": null,
      "outputs": [
        {
          "output_type": "stream",
          "name": "stderr",
          "text": [
            "<ipython-input-4-cbc1491805fe>:20: FutureWarning: DataFrame.set_axis 'inplace' keyword is deprecated and will be removed in a future version. Use `obj = obj.set_axis(..., copy=False)` instead\n",
            "  aux_df.set_axis(c, axis='columns', inplace=True)\n"
          ]
        }
      ]
    },
    {
      "cell_type": "code",
      "source": [
        "#Reshape\n",
        "x = x.values.reshape(x.shape[0], x.shape[1], 1)"
      ],
      "metadata": {
        "id": "dBYj5xiV-V5r"
      },
      "execution_count": null,
      "outputs": []
    },
    {
      "cell_type": "code",
      "source": [
        "#Labels\n",
        "base = np.ones((150,1), dtype=np.int64)\n",
        "m_cyl = base*0\n",
        "m_hook = base*1\n",
        "m_lat = base*2\n",
        "m_palm = base*3\n",
        "m_spher = base*4\n",
        "m_tip = base*5"
      ],
      "metadata": {
        "id": "wLuLGRXB-WCC"
      },
      "execution_count": null,
      "outputs": []
    },
    {
      "cell_type": "code",
      "source": [
        "y = np.vstack([m_cyl,m_hook,m_lat,m_palm,m_spher,m_tip])\n",
        "#y = pd.DataFrame(y)"
      ],
      "metadata": {
        "id": "u529qXZw-WKa"
      },
      "execution_count": null,
      "outputs": []
    },
    {
      "cell_type": "code",
      "source": [
        "#Train, test and validation split\n",
        "x_train, x_aux, y_train, y_aux = train_test_split(x,y, test_size=0.30, random_state=42)\n",
        "x_val, x_test, y_val, y_test = train_test_split(x_aux, y_aux, test_size=0.50, random_state=23)"
      ],
      "metadata": {
        "id": "UnMepp5r-WVy"
      },
      "execution_count": null,
      "outputs": []
    },
    {
      "cell_type": "code",
      "source": [
        "# CNN+LSTM\n",
        "seq_len = 3010\n",
        "n_classes = 6\n",
        "n_channels = 1\n",
        "\n",
        "lr = 0.00001\n",
        "\n",
        "opt = Adam(learning_rate=lr)\n",
        "\n",
        "inputs = Input(shape=(seq_len, n_channels))\n",
        "\n",
        "laywer1 = Conv1D(filters=64, kernel_size=3, activation='relu',padding='same')(inputs)\n",
        "pool1 = MaxPool1D(pool_size=2, padding='same')(laywer1)\n",
        "laywer2 = Conv1D(filters=32, kernel_size=2, activation='relu',padding='same')(pool1)\n",
        "pool2 = MaxPool1D(pool_size=2, padding='same')(laywer2)\n",
        "\n",
        "lstm1 = LSTM(100, return_sequences=True)(pool2)\n",
        "dense1 = Dense(6, activation='relu')(lstm1)\n",
        "#dropout1 = Dropout(0.2)(dense1)\n",
        "\n",
        "flat = Flatten()(dense1)\n",
        "dense2 = Dense(n_classes, activation='softmax')(flat)\n",
        "\n",
        "model_cnn_lstm = Model(inputs=inputs, outputs=dense2)\n",
        "model_cnn_lstm.compile(loss='sparse_categorical_crossentropy', optimizer=opt, metrics=['accuracy'])\n",
        "\n",
        "plot_model(model_cnn_lstm, to_file='model.png')"
      ],
      "metadata": {
        "id": "FaNTPTIy-WeS",
        "colab": {
          "base_uri": "https://localhost:8080/",
          "height": 856
        },
        "outputId": "0c8fce32-a6fc-4192-c39f-fc6043715c7a"
      },
      "execution_count": null,
      "outputs": [
        {
          "output_type": "execute_result",
          "data": {
            "image/png": "[encoded data removed]",
            "text/plain": [
              "<IPython.core.display.Image object>"
            ]
          },
          "metadata": {},
          "execution_count": 10
        }
      ]
    },
    {
      "cell_type": "code",
      "source": [
        "print(model_cnn_lstm.summary())"
      ],
      "metadata": {
        "colab": {
          "base_uri": "https://localhost:8080/"
        },
        "id": "j7RbU4czyt8E",
        "outputId": "b5b0c607-53b2-44c5-f40d-06ad1b113ce6"
      },
      "execution_count": null,
      "outputs": [
        {
          "output_type": "stream",
          "name": "stdout",
          "text": [
            "Model: \"model\"\n",
            "_________________________________________________________________\n",
            " Layer (type)                Output Shape              Param #   \n",
            "=================================================================\n",
            " input_1 (InputLayer)        [(None, 3010, 1)]         0         \n",
            "                                                                 \n",
            " conv1d (Conv1D)             (None, 3010, 64)          256       \n",
            "                                                                 \n",
            " max_pooling1d (MaxPooling1D  (None, 1505, 64)         0         \n",
            " )                                                               \n",
            "                                                                 \n",
            " conv1d_1 (Conv1D)           (None, 1505, 32)          4128      \n",
            "                                                                 \n",
            " max_pooling1d_1 (MaxPooling  (None, 753, 32)          0         \n",
            " 1D)                                                             \n",
            "                                                                 \n",
            " lstm (LSTM)                 (None, 753, 100)          53200     \n",
            "                                                                 \n",
            " dense (Dense)               (None, 753, 6)            606       \n",
            "                                                                 \n",
            " flatten (Flatten)           (None, 4518)              0         \n",
            "                                                                 \n",
            " dense_1 (Dense)             (None, 6)                 27114     \n",
            "                                                                 \n",
            "=================================================================\n",
            "Total params: 85,304\n",
            "Trainable params: 85,304\n",
            "Non-trainable params: 0\n",
            "_________________________________________________________________\n",
            "None\n"
          ]
        }
      ]
    },
    {
      "cell_type": "code",
      "source": [
        "#Fit Ensemble\n",
        "\n",
        "batch_size = 100\n",
        "epochs = 150\n",
        "\n",
        "history_cnn_lstm = model_cnn_lstm.fit(x_train,\n",
        "                                      y_train,\n",
        "                                      epochs=epochs,\n",
        "                                      batch_size=batch_size,\n",
        "                                      verbose=True,\n",
        "                                      validation_data=(x_val, y_val))"
      ],
      "metadata": {
        "id": "D1zowGyb-Wni"
      },
      "execution_count": null,
      "outputs": []
    },
    {
      "cell_type": "code",
      "source": [
        "plt.plot(history_cnn_lstm.history['loss'])\n",
        "plt.plot(history_cnn_lstm.history['val_loss'])\n",
        "plt.title('model loss')\n",
        "plt.ylabel('loss')\n",
        "plt.xlabel('epoch')\n",
        "plt.legend(['train', 'val'], loc='upper left')\n",
        "plt.show()"
      ],
      "metadata": {
        "id": "aXUDN8Wg-WwD"
      },
      "execution_count": null,
      "outputs": []
    },
    {
      "cell_type": "code",
      "source": [
        "results = model_cnn_lstm.evaluate(x_test, y_test, batch_size=batch_size, verbose=0)\n",
        "print(\"test loss, test acc:\", results)"
      ],
      "metadata": {
        "id": "M_IYIzPv-W6S"
      },
      "execution_count": null,
      "outputs": []
    },
    {
      "cell_type": "code",
      "source": [
        "pred3 = model_cnn_lstm.predict(x_test)\n",
        "y_pred3 = pred3.argmax(axis=-1)"
      ],
      "metadata": {
        "id": "0L4Bap3I-zWc"
      },
      "execution_count": null,
      "outputs": []
    },
    {
      "cell_type": "code",
      "source": [
        "cm3 = confusion_matrix(y_test, y_pred3)\n",
        "print(cm3)"
      ],
      "metadata": {
        "id": "nYfW9qme-1TB"
      },
      "execution_count": null,
      "outputs": []
    },
    {
      "cell_type": "code",
      "source": [
        "qualidade3 = cm3.diagonal()/cm3.sum(axis=1)\n",
        "desvio3 = np.std(qualidade3)\n",
        "print('Qualidade:', qualidade3)\n",
        "print('Desvio:', desvio3)"
      ],
      "metadata": {
        "id": "rcHYlFDN-1xy"
      },
      "execution_count": null,
      "outputs": []
    },
    {
      "cell_type": "code",
      "source": [
        "df_cm3 = pd.DataFrame(cm3, range(6),range(6))\n",
        "pp_matrix(df_cm3)"
      ],
      "metadata": {
        "id": "8U8huctU-17C"
      },
      "execution_count": null,
      "outputs": []
    }
  ]
}
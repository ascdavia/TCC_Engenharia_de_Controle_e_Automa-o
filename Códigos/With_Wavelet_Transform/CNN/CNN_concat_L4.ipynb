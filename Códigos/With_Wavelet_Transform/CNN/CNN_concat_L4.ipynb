{
  "nbformat": 4,
  "nbformat_minor": 0,
  "metadata": {
    "colab": {
      "provenance": []
    },
    "kernelspec": {
      "name": "python3",
      "display_name": "Python 3"
    },
    "language_info": {
      "name": "python"
    }
  },
  "cells": [
    {
      "cell_type": "code",
      "source": [
        "pip install pretty_confusion_matrix"
      ],
      "metadata": {
        "id": "nM3wVzeiEz7j"
      },
      "execution_count": null,
      "outputs": []
    },
    {
      "cell_type": "code",
      "execution_count": null,
      "metadata": {
        "id": "sW3rDvRiEBYl"
      },
      "outputs": [],
      "source": [
        "from IPython.core.display import Pretty\n",
        "#Data\n",
        "import pandas as pd\n",
        "import numpy as np\n",
        "\n",
        "#Wavelet Transform\n",
        "import pywt\n",
        "\n",
        "#Train and Test Split\n",
        "from sklearn.model_selection import train_test_split\n",
        "\n",
        "#CNN and LSTM Model\n",
        "import keras\n",
        "from keras.models import Sequential, Model\n",
        "from tensorflow.keras.optimizers import Adam\n",
        "from keras.layers import Conv1D, LSTM, Input, MaxPool1D, MaxPooling1D, Dropout, AvgPool1D, Reshape, Concatenate, Dense, Flatten\n",
        "\n",
        "#Metrics\n",
        "from sklearn.metrics import confusion_matrix, recall_score, precision_score\n",
        "\n",
        "#Visualization\n",
        "import seaborn as sns\n",
        "import matplotlib.pyplot as plt\n",
        "#from pretty_confusion_matrix import pp_matrix\n",
        "from keras.utils.vis_utils import plot_model"
      ]
    },
    {
      "cell_type": "code",
      "source": [
        "#Import Data\n",
        "x1 = pd.read_csv('https://github.com/ascdavia/TCC_Engenharia_de_Controle_e_Automacao/blob/main/Database/sEMG_Basic_Hand_movements_upatras_csv_files/Database_1/df1_mov_all.csv?raw=true', compression = None)\n",
        "x1 = x1.drop(x1.columns[0], axis=1)\n"
      ],
      "metadata": {
        "id": "cHpHUMmXEGsZ"
      },
      "execution_count": null,
      "outputs": []
    },
    {
      "cell_type": "code",
      "source": [
        "#Maximum decomposition level\n",
        "decUtil = pywt.dwt_max_level(3000, 'db2')\n",
        "decUtil"
      ],
      "metadata": {
        "colab": {
          "base_uri": "https://localhost:8080/"
        },
        "id": "xn_EGiW1Z-XB",
        "outputId": "7cade685-ea8e-45a0-e180-e7e7bc367199"
      },
      "execution_count": null,
      "outputs": [
        {
          "output_type": "execute_result",
          "data": {
            "text/plain": [
              "9"
            ]
          },
          "metadata": {},
          "execution_count": 4
        }
      ]
    },
    {
      "cell_type": "code",
      "source": [
        "#Define Wavelet Transform Function\n",
        "\n",
        "def waveletTransformFourLevels(df):\n",
        "\n",
        "  aux_df = ()\n",
        "  aux_df = pd.DataFrame(aux_df)\n",
        "\n",
        "  for i in range (len(df)):\n",
        "    aux = df.loc[i]\n",
        "    cA4, cD4, cD3, cD2, cD1= pywt.wavedec(aux,'db2', level = 4)\n",
        "    cA4 = pd.DataFrame(cA4).T\n",
        "    cD4 = pd.DataFrame(cD4).T\n",
        "    cD3 = pd.DataFrame(cD3).T\n",
        "    cD2 = pd.DataFrame(cD2).T\n",
        "    cD1 = pd.DataFrame(cD1).T\n",
        "    aux_df2 = pd.concat([cA4,cD4,cD3,cD2,cD1], axis=1)\n",
        "    aux_df = pd.concat([aux_df,aux_df2])\n",
        "\n",
        "  c = list(range(0, 3010, 1))\n",
        "  aux_df.set_axis(c, axis='columns', inplace=True)\n",
        "  aux_df = aux_df.reset_index(drop=True)\n",
        "\n",
        "  return (aux_df)"
      ],
      "metadata": {
        "id": "vkRQFMskEJtR"
      },
      "execution_count": null,
      "outputs": []
    },
    {
      "cell_type": "code",
      "source": [
        "#Wavelet Transform Application\n",
        "x = waveletTransformFourLevels(x1)\n",
        "x = pd.DataFrame(x)"
      ],
      "metadata": {
        "colab": {
          "base_uri": "https://localhost:8080/"
        },
        "id": "hNi4WQwhENAv",
        "outputId": "12f93f9b-caac-4e41-a6d9-d3d7dd9c04e7"
      },
      "execution_count": null,
      "outputs": [
        {
          "output_type": "stream",
          "name": "stderr",
          "text": [
            "<ipython-input-5-3079fd124878>:20: FutureWarning: DataFrame.set_axis 'inplace' keyword is deprecated and will be removed in a future version. Use `obj = obj.set_axis(..., copy=False)` instead\n",
            "  aux_df.set_axis(c, axis='columns', inplace=True)\n"
          ]
        }
      ]
    },
    {
      "cell_type": "code",
      "source": [
        "#Reshape\n",
        "x = x.values.reshape(x.shape[0], x.shape[1], 1)"
      ],
      "metadata": {
        "id": "n7VILTCKEPUX"
      },
      "execution_count": null,
      "outputs": []
    },
    {
      "cell_type": "code",
      "source": [
        "#Labels\n",
        "base = np.ones((150,1), dtype=np.int64)\n",
        "m_cyl = base*0\n",
        "m_hook = base*1\n",
        "m_lat = base*2\n",
        "m_palm = base*3\n",
        "m_spher = base*4\n",
        "m_tip = base*5"
      ],
      "metadata": {
        "id": "64mkrLzpEREM"
      },
      "execution_count": null,
      "outputs": []
    },
    {
      "cell_type": "code",
      "source": [
        "y = np.vstack([m_cyl,m_hook,m_lat,m_palm,m_spher,m_tip])\n",
        "y = pd.DataFrame(y)"
      ],
      "metadata": {
        "id": "sQ-k4lvBEWUG"
      },
      "execution_count": null,
      "outputs": []
    },
    {
      "cell_type": "code",
      "source": [
        "#Train, test and validation split\n",
        "x_train, x_aux, y_train, y_aux = train_test_split(x,y, test_size=0.30, random_state=42)\n",
        "x_val, x_test, y_val, y_test = train_test_split(x_aux, y_aux, test_size=0.50, random_state=23)"
      ],
      "metadata": {
        "id": "hsamTnqSEYUj"
      },
      "execution_count": null,
      "outputs": []
    },
    {
      "cell_type": "code",
      "source": [
        "#CNN Model\n",
        "\n",
        "seq_len = 3010\n",
        "lr = 0.00001\n",
        "\n",
        "n_classes = 6\n",
        "n_channels = 1\n",
        "\n",
        "opt = Adam(learning_rate=lr)\n",
        "\n",
        "cnn_model = Sequential()\n",
        "cnn_model.add(Conv1D(filters=4, kernel_size=2, strides=1, padding='same', activation='relu', input_shape=(seq_len, n_channels)))\n",
        "cnn_model.add(MaxPooling1D(pool_size=2, strides=2, padding='same'))\n",
        "cnn_model.add(Conv1D(filters=8, kernel_size=2, strides=1, padding='same', activation='relu'))\n",
        "cnn_model.add(MaxPooling1D(pool_size=2, strides=2, padding='same'))\n",
        "cnn_model.add(Conv1D(filters=16, kernel_size=2, strides=1, padding='same', activation='relu'))\n",
        "cnn_model.add(MaxPooling1D(pool_size=2, strides=2, padding='same'))\n",
        "cnn_model.add(Conv1D(filters=32, kernel_size=2, strides=1, padding='same', activation='relu'))\n",
        "cnn_model.add(MaxPooling1D(pool_size=2, strides=2, padding='same'))\n",
        "cnn_model.add(Conv1D(filters=64, kernel_size=2, strides=1, padding='same', activation='relu'))\n",
        "cnn_model.add(MaxPooling1D(pool_size=2, strides=2, padding='same'))\n",
        "cnn_model.add(Conv1D(filters=128, kernel_size=2, strides=1, padding='same', activation='relu'))\n",
        "cnn_model.add(MaxPooling1D(pool_size=2, strides=2, padding='same'))\n",
        "cnn_model.add(Dropout(0.2))\n",
        "cnn_model.add(Flatten())\n",
        "cnn_model.add(Dense(n_classes, activation='softmax'))\n",
        "cnn_model.compile(loss='sparse_categorical_crossentropy', optimizer=opt, metrics=['accuracy'])\n",
        "\n",
        "plot_model(cnn_model, to_file='model.png')\n"
      ],
      "metadata": {
        "id": "pLP1LJmTEa37",
        "colab": {
          "base_uri": "https://localhost:8080/",
          "height": 1000
        },
        "outputId": "6e513060-0a42-4dde-fa4d-602c24f1bd86"
      },
      "execution_count": null,
      "outputs": [
        {
          "output_type": "execute_result",
          "data": {
            "image/png": "[encoded data removed]",
            "text/plain": [
              "<IPython.core.display.Image object>"
            ]
          },
          "metadata": {},
          "execution_count": 11
        }
      ]
    },
    {
      "cell_type": "code",
      "source": [
        "print(cnn_model.summary())"
      ],
      "metadata": {
        "id": "SI5s-iGIzEMI",
        "colab": {
          "base_uri": "https://localhost:8080/"
        },
        "outputId": "6e33a47c-a3f1-45ff-bf60-00b4dd68ff2c"
      },
      "execution_count": null,
      "outputs": [
        {
          "output_type": "stream",
          "name": "stdout",
          "text": [
            "Model: \"sequential\"\n",
            "_________________________________________________________________\n",
            " Layer (type)                Output Shape              Param #   \n",
            "=================================================================\n",
            " conv1d (Conv1D)             (None, 3010, 4)           12        \n",
            "                                                                 \n",
            " max_pooling1d (MaxPooling1D  (None, 1505, 4)          0         \n",
            " )                                                               \n",
            "                                                                 \n",
            " conv1d_1 (Conv1D)           (None, 1505, 8)           72        \n",
            "                                                                 \n",
            " max_pooling1d_1 (MaxPooling  (None, 753, 8)           0         \n",
            " 1D)                                                             \n",
            "                                                                 \n",
            " conv1d_2 (Conv1D)           (None, 753, 16)           272       \n",
            "                                                                 \n",
            " max_pooling1d_2 (MaxPooling  (None, 377, 16)          0         \n",
            " 1D)                                                             \n",
            "                                                                 \n",
            " conv1d_3 (Conv1D)           (None, 377, 32)           1056      \n",
            "                                                                 \n",
            " max_pooling1d_3 (MaxPooling  (None, 189, 32)          0         \n",
            " 1D)                                                             \n",
            "                                                                 \n",
            " conv1d_4 (Conv1D)           (None, 189, 64)           4160      \n",
            "                                                                 \n",
            " max_pooling1d_4 (MaxPooling  (None, 95, 64)           0         \n",
            " 1D)                                                             \n",
            "                                                                 \n",
            " conv1d_5 (Conv1D)           (None, 95, 128)           16512     \n",
            "                                                                 \n",
            " max_pooling1d_5 (MaxPooling  (None, 48, 128)          0         \n",
            " 1D)                                                             \n",
            "                                                                 \n",
            " dropout (Dropout)           (None, 48, 128)           0         \n",
            "                                                                 \n",
            " flatten (Flatten)           (None, 6144)              0         \n",
            "                                                                 \n",
            " dense (Dense)               (None, 6)                 36870     \n",
            "                                                                 \n",
            "=================================================================\n",
            "Total params: 58,954\n",
            "Trainable params: 58,954\n",
            "Non-trainable params: 0\n",
            "_________________________________________________________________\n",
            "None\n"
          ]
        }
      ]
    },
    {
      "cell_type": "code",
      "source": [
        "#Fit CNN Model\n",
        "batch_size = 100\n",
        "epochs = 2500\n",
        "\n",
        "history_cnn = cnn_model.fit(x_train,\n",
        "                            y_train,\n",
        "                            epochs=epochs,\n",
        "                            batch_size=batch_size,\n",
        "                            verbose=True,\n",
        "                            validation_data=(x_val, y_val))"
      ],
      "metadata": {
        "id": "WuJU-94lEewl"
      },
      "execution_count": null,
      "outputs": []
    },
    {
      "cell_type": "code",
      "source": [
        "plt.plot(history_cnn.history['loss'])\n",
        "plt.plot(history_cnn.history['val_loss'])\n",
        "plt.title('model loss')\n",
        "plt.ylabel('loss')\n",
        "plt.xlabel('epoch')\n",
        "plt.legend(['train', 'val'], loc='upper left')\n",
        "plt.show()"
      ],
      "metadata": {
        "id": "togj_zmGEhsS"
      },
      "execution_count": null,
      "outputs": []
    },
    {
      "cell_type": "code",
      "source": [
        "avaliacao = cnn_model.evaluate(x_train,y_train)"
      ],
      "metadata": {
        "id": "CXkQOeKFEjJd"
      },
      "execution_count": null,
      "outputs": []
    },
    {
      "cell_type": "code",
      "source": [
        "pred = cnn_model.predict(x_test)\n",
        "y_pred = pred.argmax(axis=-1)"
      ],
      "metadata": {
        "id": "w693wBgWEkvj"
      },
      "execution_count": null,
      "outputs": []
    },
    {
      "cell_type": "code",
      "source": [
        "cm = confusion_matrix(y_test, y_pred)\n",
        "print(cm)"
      ],
      "metadata": {
        "id": "VO9LcLLAEmKC"
      },
      "execution_count": null,
      "outputs": []
    },
    {
      "cell_type": "code",
      "source": [
        "qualidade = cm.diagonal()/cm.sum(axis=1)\n",
        "desvio = np.std(qualidade)\n",
        "print('Qualidade:', qualidade)\n",
        "print('Desvio:', desvio)"
      ],
      "metadata": {
        "id": "asZggwsPEnnV"
      },
      "execution_count": null,
      "outputs": []
    },
    {
      "cell_type": "code",
      "source": [
        "df_cm = pd.DataFrame(cm, range(6),range(6))\n",
        "pp_matrix(df_cm)"
      ],
      "metadata": {
        "id": "Xop1sXw5Epvp"
      },
      "execution_count": null,
      "outputs": []
    }
  ]
}
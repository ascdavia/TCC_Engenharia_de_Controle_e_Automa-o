{
  "nbformat": 4,
  "nbformat_minor": 0,
  "metadata": {
    "colab": {
      "provenance": []
    },
    "kernelspec": {
      "name": "python3",
      "display_name": "Python 3"
    },
    "language_info": {
      "name": "python"
    }
  },
  "cells": [
    {
      "cell_type": "code",
      "execution_count": null,
      "metadata": {
        "id": "5RphLy3n_67f"
      },
      "outputs": [],
      "source": [
        "pip install pretty_confusion_matrix"
      ]
    },
    {
      "cell_type": "code",
      "source": [
        "from IPython.core.display import Pretty\n",
        "#Data\n",
        "import pandas as pd\n",
        "import numpy as np\n",
        "\n",
        "#Wavelet Transform\n",
        "import pywt\n",
        "\n",
        "#Train and Test Split\n",
        "from sklearn.model_selection import train_test_split\n",
        "\n",
        "#CNN and LSTM Model\n",
        "import keras\n",
        "from keras.models import Sequential, Model\n",
        "from tensorflow.keras.optimizers import Adam\n",
        "from keras.layers import Conv1D, LSTM, Input, MaxPool1D, MaxPooling1D, Dropout, AvgPool1D, Reshape, Concatenate, Dense, Flatten\n",
        "\n",
        "#Metrics\n",
        "from sklearn.metrics import confusion_matrix, recall_score, precision_score\n",
        "\n",
        "#Visualization\n",
        "import seaborn as sns\n",
        "import matplotlib.pyplot as plt\n",
        "from pretty_confusion_matrix import pp_matrix\n",
        "#from keras.utils.vis_utils import plot_model\n"
      ],
      "metadata": {
        "id": "vjta3XNp_-G1"
      },
      "execution_count": null,
      "outputs": []
    },
    {
      "cell_type": "code",
      "source": [
        "#Import Data\n",
        "x1 = pd.read_csv('https://github.com/ascdavia/TCC_Engenharia_de_Controle_e_Automacao/blob/main/Database/sEMG_Basic_Hand_movements_upatras_csv_files/Database_1/df1_mov_all.csv?raw=true', compression = None)\n",
        "x = x1.drop(x1.columns[0], axis=1)"
      ],
      "metadata": {
        "id": "Jt-hbhGoABLn"
      },
      "execution_count": null,
      "outputs": []
    },
    {
      "cell_type": "code",
      "source": [
        "#Reshape\n",
        "x = x.values.reshape(x.shape[0], x.shape[1], 1)"
      ],
      "metadata": {
        "id": "rxvENWvxACD7"
      },
      "execution_count": null,
      "outputs": []
    },
    {
      "cell_type": "code",
      "source": [
        "#Labels\n",
        "base = np.ones((150,1), dtype=np.int64)\n",
        "m_cyl = base*0\n",
        "m_hook = base*1\n",
        "m_lat = base*2\n",
        "m_palm = base*3\n",
        "m_spher = base*4\n",
        "m_tip = base*5"
      ],
      "metadata": {
        "id": "A9uIopvFACKS"
      },
      "execution_count": null,
      "outputs": []
    },
    {
      "cell_type": "code",
      "source": [
        "y = np.vstack([m_cyl,m_hook,m_lat,m_palm,m_spher,m_tip])\n",
        "#y = pd.DataFrame(y)"
      ],
      "metadata": {
        "id": "-MirX5zkACQy"
      },
      "execution_count": null,
      "outputs": []
    },
    {
      "cell_type": "code",
      "source": [
        "#Train, test and validation split\n",
        "x_train, x_aux, y_train, y_aux = train_test_split(x,y, test_size=0.30, random_state=42)\n",
        "x_val, x_test, y_val, y_test = train_test_split(x_aux, y_aux, test_size=0.50, random_state=23)"
      ],
      "metadata": {
        "id": "IMDYciTQACWS"
      },
      "execution_count": null,
      "outputs": []
    },
    {
      "cell_type": "code",
      "source": [
        "#CNN Model\n",
        "\n",
        "batch_size = 100\n",
        "seq_len = 3000\n",
        "lr = 0.00001\n",
        "epochs = 2500\n",
        "\n",
        "n_classes = 6\n",
        "n_channels = 1\n",
        "\n",
        "opt = Adam(learning_rate=lr)\n",
        "\n",
        "cnn_model = Sequential()\n",
        "cnn_model.add(Conv1D(filters=4, kernel_size=2, strides=1, padding='same', activation='relu', input_shape=(seq_len, n_channels)))\n",
        "cnn_model.add(MaxPooling1D(pool_size=2, strides=2, padding='same'))\n",
        "cnn_model.add(Conv1D(filters=8, kernel_size=2, strides=1, padding='same', activation='relu'))\n",
        "cnn_model.add(MaxPooling1D(pool_size=2, strides=2, padding='same'))\n",
        "cnn_model.add(Conv1D(filters=16, kernel_size=2, strides=1, padding='same', activation='relu'))\n",
        "cnn_model.add(MaxPooling1D(pool_size=2, strides=2, padding='same'))\n",
        "cnn_model.add(Conv1D(filters=32, kernel_size=2, strides=1, padding='same', activation='relu'))\n",
        "cnn_model.add(MaxPooling1D(pool_size=2, strides=2, padding='same'))\n",
        "cnn_model.add(Conv1D(filters=64, kernel_size=2, strides=1, padding='same', activation='relu'))\n",
        "cnn_model.add(MaxPooling1D(pool_size=2, strides=2, padding='same'))\n",
        "cnn_model.add(Conv1D(filters=128, kernel_size=2, strides=1, padding='same', activation='relu'))\n",
        "cnn_model.add(MaxPooling1D(pool_size=2, strides=2, padding='same'))\n",
        "cnn_model.add(Dropout(0.2))\n",
        "cnn_model.add(Flatten())\n",
        "cnn_model.add(Dense(n_classes, activation='softmax'))\n",
        "cnn_model.compile(loss='sparse_categorical_crossentropy', optimizer=opt, metrics=['accuracy'])\n",
        "\n",
        "plot_model(cnn_model, to_file='model.png')"
      ],
      "metadata": {
        "id": "DeXKNbXPACci"
      },
      "execution_count": null,
      "outputs": []
    },
    {
      "cell_type": "code",
      "source": [
        "print(cnn_model.summary())"
      ],
      "metadata": {
        "id": "x1EyYl6CzZKK"
      },
      "execution_count": null,
      "outputs": []
    },
    {
      "cell_type": "code",
      "source": [
        "#Fit CNN Model\n",
        "history_cnn = cnn_model.fit(x_train, y_train, epochs=epochs, batch_size=batch_size, verbose=True, validation_data=(x_val, y_val))"
      ],
      "metadata": {
        "id": "9lfLrefaACiS"
      },
      "execution_count": null,
      "outputs": []
    },
    {
      "cell_type": "code",
      "source": [
        "plt.plot(history_cnn.history['loss'])\n",
        "plt.plot(history_cnn.history['val_loss'])\n",
        "plt.title('model loss')\n",
        "plt.ylabel('loss')\n",
        "plt.xlabel('epoch')\n",
        "plt.legend(['train', 'val'], loc='upper left')\n",
        "plt.show()"
      ],
      "metadata": {
        "id": "F9ULaH5vACoE"
      },
      "execution_count": null,
      "outputs": []
    },
    {
      "cell_type": "code",
      "source": [
        "avaliacao = cnn_model.evaluate(x_train,y_train)"
      ],
      "metadata": {
        "id": "V4qFqN8TACt0"
      },
      "execution_count": null,
      "outputs": []
    },
    {
      "cell_type": "code",
      "source": [
        "pred = cnn_model.predict(x_test)\n",
        "y_pred = pred.argmax(axis=-1)"
      ],
      "metadata": {
        "id": "Wa_tnOPZACz0"
      },
      "execution_count": null,
      "outputs": []
    },
    {
      "cell_type": "code",
      "source": [
        "cm = confusion_matrix(y_test, y_pred)\n",
        "print(cm)"
      ],
      "metadata": {
        "id": "yt3vIUs4AC5j"
      },
      "execution_count": null,
      "outputs": []
    },
    {
      "cell_type": "code",
      "source": [
        "qualidade = cm.diagonal()/cm.sum(axis=1)\n",
        "desvio = np.std(qualidade)\n",
        "print('Qualidade:', qualidade)\n",
        "print('Desvio:', desvio)"
      ],
      "metadata": {
        "id": "KeGPYMUmAC_T"
      },
      "execution_count": null,
      "outputs": []
    },
    {
      "cell_type": "code",
      "source": [
        "df_cm = pd.DataFrame(cm, range(6),range(6))\n",
        "pp_matrix(df_cm)"
      ],
      "metadata": {
        "id": "47qiaVqZADFC"
      },
      "execution_count": null,
      "outputs": []
    }
  ]
}
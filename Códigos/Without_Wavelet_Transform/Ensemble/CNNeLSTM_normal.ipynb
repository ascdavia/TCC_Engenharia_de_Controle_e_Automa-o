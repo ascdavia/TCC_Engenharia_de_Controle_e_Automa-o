{
  "nbformat": 4,
  "nbformat_minor": 0,
  "metadata": {
    "colab": {
      "provenance": []
    },
    "kernelspec": {
      "name": "python3",
      "display_name": "Python 3"
    },
    "language_info": {
      "name": "python"
    }
  },
  "cells": [
    {
      "cell_type": "code",
      "source": [
        "pip install pretty_confusion_matrix"
      ],
      "metadata": {
        "id": "SuEvWyFbAkgx"
      },
      "execution_count": null,
      "outputs": []
    },
    {
      "cell_type": "code",
      "execution_count": null,
      "metadata": {
        "id": "s-sT5WGxAcs4"
      },
      "outputs": [],
      "source": [
        "from IPython.core.display import Pretty\n",
        "#Data\n",
        "import pandas as pd\n",
        "import numpy as np\n",
        "\n",
        "#Wavelet Transform\n",
        "import pywt\n",
        "\n",
        "#Train and Test Split\n",
        "from sklearn.model_selection import train_test_split\n",
        "\n",
        "#CNN and LSTM Model\n",
        "import keras\n",
        "from keras.models import Sequential, Model\n",
        "from tensorflow.keras.optimizers import Adam\n",
        "from keras.layers import Conv1D, LSTM, Input, MaxPool1D, MaxPooling1D, Dropout, AvgPool1D, Reshape, Concatenate, Dense, Flatten\n",
        "\n",
        "#Metrics\n",
        "from sklearn.metrics import confusion_matrix, recall_score, precision_score\n",
        "\n",
        "#Visualization\n",
        "import seaborn as sns\n",
        "import matplotlib.pyplot as plt\n",
        "#from pretty_confusion_matrix import pp_matrix\n",
        "from keras.utils.vis_utils import plot_model"
      ]
    },
    {
      "cell_type": "code",
      "source": [
        "#Import Data\n",
        "x1 = pd.read_csv('https://github.com/ascdavia/TCC_Engenharia_de_Controle_e_Automacao/blob/main/Database/sEMG_Basic_Hand_movements_upatras_csv_files/Database_1/df1_mov_all.csv?raw=true', compression = None)\n",
        "x = x1.drop(x1.columns[0], axis=1)"
      ],
      "metadata": {
        "id": "0VXkuCL9AgYL"
      },
      "execution_count": null,
      "outputs": []
    },
    {
      "cell_type": "code",
      "source": [
        "#Reshape\n",
        "x = x.values.reshape(x.shape[0], x.shape[1], 1)"
      ],
      "metadata": {
        "id": "bnRToHphAgeZ"
      },
      "execution_count": null,
      "outputs": []
    },
    {
      "cell_type": "code",
      "source": [
        "#Labels\n",
        "base = np.ones((150,1), dtype=np.int64)\n",
        "m_cyl = base*0\n",
        "m_hook = base*1\n",
        "m_lat = base*2\n",
        "m_palm = base*3\n",
        "m_spher = base*4\n",
        "m_tip = base*5"
      ],
      "metadata": {
        "id": "hWry5YlCAgkJ"
      },
      "execution_count": null,
      "outputs": []
    },
    {
      "cell_type": "code",
      "source": [
        "y = np.vstack([m_cyl,m_hook,m_lat,m_palm,m_spher,m_tip])\n",
        "#y = pd.DataFrame(y)"
      ],
      "metadata": {
        "id": "Oc2_A2thAgpJ"
      },
      "execution_count": null,
      "outputs": []
    },
    {
      "cell_type": "code",
      "source": [
        "#Train, test and validation split\n",
        "x_train, x_aux, y_train, y_aux = train_test_split(x,y, test_size=0.30, random_state=42)\n",
        "x_val, x_test, y_val, y_test = train_test_split(x_aux, y_aux, test_size=0.50, random_state=23)"
      ],
      "metadata": {
        "id": "XfzoQMeHAguL"
      },
      "execution_count": null,
      "outputs": []
    },
    {
      "cell_type": "code",
      "source": [
        "# CNN+LSTM\n",
        "\n",
        "seq_len = 3000\n",
        "n_classes = 6\n",
        "n_channels = 1\n",
        "\n",
        "lr = 0.0001\n",
        "batch_size = 100\n",
        "epochs = 150\n",
        "\n",
        "opt = Adam(learning_rate=lr)\n",
        "\n",
        "inputs = Input(shape=(seq_len, n_channels))\n",
        "\n",
        "laywer1 = Conv1D(filters=64, kernel_size=3, activation='relu',padding='same')(inputs)\n",
        "pool1 = MaxPool1D(pool_size=2, padding='same')(laywer1)\n",
        "laywer2 = Conv1D(filters=32, kernel_size=2, activation='relu',padding='same')(pool1)\n",
        "pool2 = MaxPool1D(pool_size=2, padding='same')(laywer2)\n",
        "\n",
        "lstm1 = LSTM(100, return_sequences=True)(pool2)\n",
        "dense1 = Dense(6, activation='relu')(lstm1)\n",
        "#dropout1 = Dropout(0.2)(dense1)\n",
        "\n",
        "flat = Flatten()(dense1)\n",
        "dense2 = Dense(n_classes, activation='softmax')(flat)\n",
        "\n",
        "model_cnn_lstm = Model(inputs=inputs, outputs=dense2)\n",
        "model_cnn_lstm.compile(loss='sparse_categorical_crossentropy', optimizer=opt, metrics=['accuracy'])\n",
        "\n",
        "plot_model(model_cnn_lstm, to_file='model.png')"
      ],
      "metadata": {
        "id": "5CYvCps4Agy7"
      },
      "execution_count": null,
      "outputs": []
    },
    {
      "cell_type": "code",
      "source": [
        "print(model_cnn_lstm.summary())"
      ],
      "metadata": {
        "id": "2OFw7d_Vzj0D"
      },
      "execution_count": null,
      "outputs": []
    },
    {
      "cell_type": "code",
      "source": [
        "history_cnn_lstm = model_cnn_lstm.fit(x_train, y_train,\n",
        "  epochs=epochs,\n",
        "  batch_size=batch_size,\n",
        "  verbose=True,\n",
        "  validation_data=(x_val, y_val))"
      ],
      "metadata": {
        "id": "Z4pVtKJxAg4Z"
      },
      "execution_count": null,
      "outputs": []
    },
    {
      "cell_type": "code",
      "source": [
        "plt.plot(history_cnn_lstm.history['loss'])\n",
        "plt.plot(history_cnn_lstm.history['val_loss'])\n",
        "plt.title('model loss')\n",
        "plt.ylabel('loss')\n",
        "plt.xlabel('epoch')\n",
        "plt.legend(['train', 'val'], loc='upper left')\n",
        "plt.show()"
      ],
      "metadata": {
        "id": "nM1J_MsCAg9y"
      },
      "execution_count": null,
      "outputs": []
    },
    {
      "cell_type": "code",
      "source": [
        "results = model_cnn_lstm.evaluate(x_test, y_test, batch_size=batch_size, verbose=0)\n",
        "print(\"test loss, test acc:\", results)"
      ],
      "metadata": {
        "id": "RERJa8vlAhDI"
      },
      "execution_count": null,
      "outputs": []
    },
    {
      "cell_type": "code",
      "source": [
        "pred3 = model_cnn_lstm.predict(x_test)\n",
        "y_pred3 = pred3.argmax(axis=-1)"
      ],
      "metadata": {
        "id": "ot3oH06MAhHx"
      },
      "execution_count": null,
      "outputs": []
    },
    {
      "cell_type": "code",
      "source": [
        "cm3 = confusion_matrix(y_test, y_pred3)\n",
        "print(cm3)"
      ],
      "metadata": {
        "id": "0dA0Wt3PAhMy"
      },
      "execution_count": null,
      "outputs": []
    },
    {
      "cell_type": "code",
      "source": [
        "qualidade3 = cm3.diagonal()/cm3.sum(axis=1)\n",
        "desvio3 = np.std(qualidade3)\n",
        "print('Qualidade:', qualidade3)\n",
        "print('Desvio:', desvio3)"
      ],
      "metadata": {
        "id": "h_7qd8RTAhRh"
      },
      "execution_count": null,
      "outputs": []
    },
    {
      "cell_type": "code",
      "source": [
        "df_cm3 = pd.DataFrame(cm3, range(6),range(6))\n",
        "pp_matrix(df_cm3)"
      ],
      "metadata": {
        "id": "zlnKtdd9AhWD"
      },
      "execution_count": null,
      "outputs": []
    }
  ]
}